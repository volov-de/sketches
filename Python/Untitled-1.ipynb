{
  "cells": [
    {
      "cell_type": "code",
      "execution_count": null,
      "id": "88e899c1",
      "metadata": {
        "colab": {
          "base_uri": "https://localhost:8080/"
        },
        "id": "88e899c1",
        "outputId": "ecdfab69-d6a4-437f-dfe7-63942d443fcb"
      },
      "outputs": [
        {
          "output_type": "execute_result",
          "data": {
            "text/plain": [
              "46"
            ]
          },
          "metadata": {},
          "execution_count": 117
        }
      ],
      "source": [
        "def calculate_f(x):\n",
        "    f = ((x**3) + (2*(x**2))) + 1\n",
        "    return f\n",
        "\n",
        "calculate_f(3)"
      ]
    },
    {
      "cell_type": "code",
      "execution_count": null,
      "id": "59af9753",
      "metadata": {
        "colab": {
          "base_uri": "https://localhost:8080/"
        },
        "id": "59af9753",
        "outputId": "9e8f536f-2237-42eb-a17d-ceb4af3445e8"
      },
      "outputs": [
        {
          "output_type": "execute_result",
          "data": {
            "text/plain": [
              "2.23606797749979"
            ]
          },
          "metadata": {},
          "execution_count": 118
        }
      ],
      "source": [
        "def task_2(a,b):\n",
        "    c = (a**2 + b**2)**0.5\n",
        "    return c\n",
        "\n",
        "task_2(1,2)"
      ]
    },
    {
      "cell_type": "code",
      "source": [
        "def task_3(a):\n",
        "    S = ((a**2)*(3**0.5))/4\n",
        "    return f'Площадь равностороннего треугольника равна: {round(S,2)}'\n",
        "\n",
        "task_3(3)"
      ],
      "metadata": {
        "colab": {
          "base_uri": "https://localhost:8080/",
          "height": 35
        },
        "id": "see_UCYRuLw4",
        "outputId": "e6b322ab-73a8-41b2-af8c-d3c66722b892"
      },
      "id": "see_UCYRuLw4",
      "execution_count": null,
      "outputs": [
        {
          "output_type": "execute_result",
          "data": {
            "text/plain": [
              "'Площадь равностороннего треугольника равна: 3.9'"
            ],
            "application/vnd.google.colaboratory.intrinsic+json": {
              "type": "string"
            }
          },
          "metadata": {},
          "execution_count": 119
        }
      ]
    },
    {
      "cell_type": "code",
      "source": [
        "def perimetr(a,b,c):\n",
        "    perimeter = a + b + c\n",
        "    p = perimeter * 0.5\n",
        "    area = (p * (p-a) * (p - b) * (p - c)) ** 0.5\n",
        "    return f'Периметр равен: {perimeter}, площадь треугольника равна {area}'\n",
        "\n",
        "print(perimetr(3,4,5))\n",
        "\n",
        "# perimeter = 12\n",
        "# area = 6"
      ],
      "metadata": {
        "colab": {
          "base_uri": "https://localhost:8080/"
        },
        "id": "vigNtA0mu7b9",
        "outputId": "87d85ba1-d8f7-47f4-cf89-7e43427bc0cb"
      },
      "id": "vigNtA0mu7b9",
      "execution_count": null,
      "outputs": [
        {
          "output_type": "stream",
          "name": "stdout",
          "text": [
            "Периметр равен: 12, площадь треугольника равна 6.0\n"
          ]
        }
      ]
    },
    {
      "cell_type": "code",
      "source": [
        "import math\n",
        "\n",
        "x = min(5, 25)\n",
        "print(x) # 5\n",
        "\n",
        "print(abs(5))  # 5\n",
        "print(abs(-5)) # 5\n",
        "\n",
        "x = math.pi\n",
        "print(x) # 3.141592653589793\n",
        "\n",
        "print(math.exp(1)) # 2.718281828459045\n",
        "print(math.exp(2)) # 7.38905609893065\n",
        "\n",
        "math.radians(90) # 1.5707963267948966"
      ],
      "metadata": {
        "colab": {
          "base_uri": "https://localhost:8080/"
        },
        "id": "wXPMmAdp2NE3",
        "outputId": "4d6c88ab-3861-4a42-984d-c08f796d2fc6"
      },
      "id": "wXPMmAdp2NE3",
      "execution_count": null,
      "outputs": [
        {
          "output_type": "stream",
          "name": "stdout",
          "text": [
            "5\n",
            "5\n",
            "5\n",
            "3.141592653589793\n",
            "2.718281828459045\n",
            "7.38905609893065\n"
          ]
        },
        {
          "output_type": "execute_result",
          "data": {
            "text/plain": [
              "1.5707963267948966"
            ]
          },
          "metadata": {},
          "execution_count": 121
        }
      ]
    },
    {
      "cell_type": "code",
      "source": [
        "import math\n",
        "\n",
        "def s_spher(R):\n",
        "    area = 4*math.pi*R**2\n",
        "    return f'Площадь сферы равна {round(area,2)}'\n",
        "\n",
        "s_spher(3)"
      ],
      "metadata": {
        "colab": {
          "base_uri": "https://localhost:8080/",
          "height": 35
        },
        "id": "OWAb1e8d2h9E",
        "outputId": "8b7dda5d-ff2a-403d-8386-9a743f14985c"
      },
      "id": "OWAb1e8d2h9E",
      "execution_count": null,
      "outputs": [
        {
          "output_type": "execute_result",
          "data": {
            "text/plain": [
              "'Площадь сферы равна 113.1'"
            ],
            "application/vnd.google.colaboratory.intrinsic+json": {
              "type": "string"
            }
          },
          "metadata": {},
          "execution_count": 122
        }
      ]
    },
    {
      "cell_type": "code",
      "source": [
        "import math\n",
        "\n",
        "def area_3(a,b,alpha):\n",
        "    area = 0.5*a*b*math.sin(math.radians(alpha))\n",
        "    return f'Площадь треугольника равна {round(area,2)}'\n",
        "\n",
        "print(area_3(3,4,60))"
      ],
      "metadata": {
        "colab": {
          "base_uri": "https://localhost:8080/"
        },
        "id": "Yt1WX-VF3bcZ",
        "outputId": "ec92cb5f-38c3-41e6-d75e-be01c3e7c8c3"
      },
      "id": "Yt1WX-VF3bcZ",
      "execution_count": null,
      "outputs": [
        {
          "output_type": "stream",
          "name": "stdout",
          "text": [
            "Площадь треугольника равна 5.2\n"
          ]
        }
      ]
    },
    {
      "cell_type": "code",
      "source": [
        "import math\n",
        "\n",
        "def task_7(alpha):\n",
        "    test_sum = math.sin(math.radians(alpha))**2+math.cos(math.radians(alpha))**2\n",
        "    return f\"Sum = {test_sum}\"\n",
        "\n",
        "task_7(30)"
      ],
      "metadata": {
        "id": "e5IKtLrU4smd",
        "outputId": "bb90fd7d-b068-4268-fa98-69b1f6ae5196",
        "colab": {
          "base_uri": "https://localhost:8080/",
          "height": 35
        }
      },
      "id": "e5IKtLrU4smd",
      "execution_count": null,
      "outputs": [
        {
          "output_type": "execute_result",
          "data": {
            "text/plain": [
              "'Sum = 1.0'"
            ],
            "application/vnd.google.colaboratory.intrinsic+json": {
              "type": "string"
            }
          },
          "metadata": {},
          "execution_count": 125
        }
      ]
    },
    {
      "cell_type": "code",
      "source": [
        "#Delta price\n",
        "\n",
        "def delta_price(old,new):\n",
        "  delta = abs((new - old)/old * 100)\n",
        "  return f'Дельта цен равна {round(delta,2)}%'\n",
        "\n",
        "delta_price(100.99,90.01)"
      ],
      "metadata": {
        "id": "nRHgTinEBbQx",
        "outputId": "6315bf17-a41d-4b14-b328-fc7314594385",
        "colab": {
          "base_uri": "https://localhost:8080/",
          "height": 35
        }
      },
      "id": "nRHgTinEBbQx",
      "execution_count": null,
      "outputs": [
        {
          "output_type": "execute_result",
          "data": {
            "text/plain": [
              "'Дельта цен равна 10.87%'"
            ],
            "application/vnd.google.colaboratory.intrinsic+json": {
              "type": "string"
            }
          },
          "metadata": {},
          "execution_count": 136
        }
      ]
    }
  ],
  "metadata": {
    "kernelspec": {
      "display_name": "Python 3",
      "language": "python",
      "name": "python3"
    },
    "language_info": {
      "codemirror_mode": {
        "name": "ipython",
        "version": 3
      },
      "file_extension": ".py",
      "mimetype": "text/x-python",
      "name": "python",
      "nbconvert_exporter": "python",
      "pygments_lexer": "ipython3",
      "version": "3.13.4"
    },
    "colab": {
      "provenance": []
    }
  },
  "nbformat": 4,
  "nbformat_minor": 5
}