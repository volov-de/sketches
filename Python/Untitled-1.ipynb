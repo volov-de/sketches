{
  "cells": [
    {
      "cell_type": "code",
      "execution_count": 14,
      "id": "88e899c1",
      "metadata": {
        "colab": {
          "base_uri": "https://localhost:8080/"
        },
        "id": "88e899c1",
        "outputId": "9e4b2da7-8bdb-4607-f9fa-c136b97a9737"
      },
      "outputs": [
        {
          "output_type": "execute_result",
          "data": {
            "text/plain": [
              "46"
            ]
          },
          "metadata": {},
          "execution_count": 14
        }
      ],
      "source": [
        "def calculate_f(x):\n",
        "    f = ((x**3) + (2*(x**2))) + 1\n",
        "    return f\n",
        "\n",
        "calculate_f(3)"
      ]
    },
    {
      "cell_type": "code",
      "execution_count": 13,
      "id": "59af9753",
      "metadata": {
        "colab": {
          "base_uri": "https://localhost:8080/"
        },
        "id": "59af9753",
        "outputId": "194fcc35-8f54-42ef-80cf-a9ce7df3c12c"
      },
      "outputs": [
        {
          "output_type": "execute_result",
          "data": {
            "text/plain": [
              "2.23606797749979"
            ]
          },
          "metadata": {},
          "execution_count": 13
        }
      ],
      "source": [
        "def task_2(a,b):\n",
        "    c = (a**2 + b**2)**0.5\n",
        "    return c\n",
        "\n",
        "task_2(1,2)"
      ]
    },
    {
      "cell_type": "code",
      "source": [
        "def task_3(a):\n",
        "    S = ((a**2)*(3**0.5))/4\n",
        "    return f'Площадь равностороннего треугольника равна: {round(S,2)}'\n",
        "\n",
        "task_3(3)"
      ],
      "metadata": {
        "colab": {
          "base_uri": "https://localhost:8080/",
          "height": 35
        },
        "id": "see_UCYRuLw4",
        "outputId": "8d0ca7c8-85d7-4366-90d0-270c8ae29761"
      },
      "id": "see_UCYRuLw4",
      "execution_count": 12,
      "outputs": [
        {
          "output_type": "execute_result",
          "data": {
            "text/plain": [
              "'Площадь равностороннего треугольника равна: 3.9'"
            ],
            "application/vnd.google.colaboratory.intrinsic+json": {
              "type": "string"
            }
          },
          "metadata": {},
          "execution_count": 12
        }
      ]
    },
    {
      "cell_type": "code",
      "source": [
        "def perimetr(a,b,c):\n",
        "    perimeter = a + b + c\n",
        "    p = perimeter * 0.5\n",
        "    area = (p * (p-a) * (p - b) * (p - c)) ** 0.5\n",
        "    return f'Периметр равен: {perimeter}, площадь треугольника равна {area}'\n",
        "\n",
        "print(perimetr(3,4,5))\n",
        "\n",
        "# perimeter = 12\n",
        "# area = 6"
      ],
      "metadata": {
        "colab": {
          "base_uri": "https://localhost:8080/"
        },
        "id": "vigNtA0mu7b9",
        "outputId": "e5be4a06-e045-4ec0-8e1b-993d4061c16a"
      },
      "id": "vigNtA0mu7b9",
      "execution_count": 62,
      "outputs": [
        {
          "output_type": "stream",
          "name": "stdout",
          "text": [
            "Периметр равен: 12, площадь треугольника равна 6.0\n"
          ]
        }
      ]
    }
  ],
  "metadata": {
    "kernelspec": {
      "display_name": "Python 3",
      "language": "python",
      "name": "python3"
    },
    "language_info": {
      "codemirror_mode": {
        "name": "ipython",
        "version": 3
      },
      "file_extension": ".py",
      "mimetype": "text/x-python",
      "name": "python",
      "nbconvert_exporter": "python",
      "pygments_lexer": "ipython3",
      "version": "3.13.4"
    },
    "colab": {
      "provenance": []
    }
  },
  "nbformat": 4,
  "nbformat_minor": 5
}