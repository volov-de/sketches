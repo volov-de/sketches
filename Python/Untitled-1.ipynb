{
 "cells": [
  {
   "cell_type": "code",
   "execution_count": null,
   "id": "88e899c1",
   "metadata": {},
   "outputs": [],
   "source": [
    "def calculate_f(x):\n",
    "    f = ((x**3) + (2*(x**2))) + 1\n",
    "    return f"
   ]
  },
  {
   "cell_type": "code",
   "execution_count": null,
   "id": "a5145fca",
   "metadata": {},
   "outputs": [],
   "source": []
  }
 ],
 "metadata": {
  "language_info": {
   "name": "python"
  }
 },
 "nbformat": 4,
 "nbformat_minor": 5
}
