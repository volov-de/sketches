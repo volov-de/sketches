{
 "cells": [
  {
   "cell_type": "code",
   "execution_count": 8,
   "id": "c654430d",
   "metadata": {},
   "outputs": [
    {
     "name": "stdout",
     "output_type": "stream",
     "text": [
      "123\n"
     ]
    }
   ],
   "source": [
    "print('123')"
   ]
  },
  {
   "cell_type": "code",
   "execution_count": 9,
   "id": "dd94e5f6",
   "metadata": {},
   "outputs": [
    {
     "name": "stdout",
     "output_type": "stream",
     "text": [
      "True\n"
     ]
    }
   ],
   "source": [
    "x = 123321\n",
    "s = str(x)\n",
    "for i in range(len(s) // 2):\n",
    "    if s[i] != s[-1 - i]:\n",
    "        print(False)\n",
    "        break\n",
    "else:\n",
    "    print(True)\n"
   ]
  },
  {
   "cell_type": "code",
   "execution_count": 10,
   "id": "9a753e30",
   "metadata": {},
   "outputs": [
    {
     "name": "stdout",
     "output_type": "stream",
     "text": [
      "True\n"
     ]
    }
   ],
   "source": [
    "s = \"казак\"\n",
    "for i in range(len(s) // 2):\n",
    "    if s[i] != s[-1 - i]:\n",
    "        print(False)\n",
    "        break\n",
    "else:\n",
    "    print(True)"
   ]
  },
  {
   "cell_type": "code",
   "execution_count": 11,
   "id": "8949fde2",
   "metadata": {},
   "outputs": [],
   "source": [
    "class Solution:\n",
    "    def find_valley_element(self, nums: list[int]) -> int:\n",
    "        min = 0\n",
    "        for i in range(len(nums)):\n",
    "            if nums[i] < min and nums[i]>nums[i+1] and nums[i]> nums[i-1]:\n",
    "                min = nums[i]\n",
    "        return (min)\n"
   ]
  },
  {
   "cell_type": "code",
   "execution_count": 12,
   "id": "51c85b09",
   "metadata": {},
   "outputs": [],
   "source": [
    "s = [\"h\",\"e\",\"l\",\"l\",\"o\"]\n",
    "\n",
    "class Solution:\n",
    "    def reverse_string(self, s: list[str]) -> None:\n",
    "        # Напишите здесь свой код\n",
    "        left, right = 0, len(s) - 1\n",
    "        while left < right:\n",
    "            s[left], s[right] = s[right], s[left]\n",
    "            left += 1\n",
    "            right -= 1"
   ]
  },
  {
   "cell_type": "code",
   "execution_count": 13,
   "id": "46114378",
   "metadata": {},
   "outputs": [
    {
     "name": "stdout",
     "output_type": "stream",
     "text": [
      "1\n",
      "1\n",
      "1\n",
      "___________________\n",
      "a    2\n",
      "b    3\n",
      "c    4\n",
      "d    5\n",
      "e    6\n",
      "dtype: int64\n",
      "___________________\n",
      "c    4\n",
      "d    5\n",
      "e    6\n",
      "dtype: int64\n",
      "___________________\n",
      "___________________\n",
      "   id   name  surname  salary\n",
      "0   1   John      Doe    5000\n",
      "1   2   Jane      Doe    6000\n",
      "2   3   Mike    Smith    7000\n",
      "3   4  Emily    Smith    8000\n",
      "4   5  David  Johnson    9000\n",
      "   id   name  surname  salary  age\n",
      "0   1   John      Doe    5000   25\n",
      "1   2   Jane      Doe    6000   30\n",
      "2   3   Mike    Smith    7000   35\n",
      "3   4  Emily    Smith    8000   40\n",
      "4   5  David  Johnson    9000   45\n"
     ]
    },
    {
     "name": "stderr",
     "output_type": "stream",
     "text": [
      "/tmp/ipykernel_177221/61486361.py:5: FutureWarning: Series.__getitem__ treating keys as positions is deprecated. In a future version, integer keys will always be treated as labels (consistent with DataFrame behavior). To access a value by position, use `ser.iloc[pos]`\n",
      "  print(s[0])\n"
     ]
    }
   ],
   "source": [
    "import pandas as pd\n",
    "\n",
    "s = pd.Series([1,2,3,4,5], index=['a', 'b', 'c', 'd', 'e'])\n",
    "\n",
    "print(s[0])\n",
    "print(s.iloc[0])\n",
    "print(s.loc['a'])\n",
    "\n",
    "print('___________________')\n",
    "s2 = s + 1\n",
    "print(s2)\n",
    "\n",
    "print('___________________')\n",
    "print(s2[s2 > 3])\n",
    "\n",
    "df = pd.DataFrame({\n",
    "    'id': [1,2,3,4,5],\n",
    "    'name': ['John', 'Jane', 'Mike', 'Emily', 'David'],\n",
    "    'surname': ['Doe', 'Doe', 'Smith', 'Smith', 'Johnson'],\n",
    "    'salary': [5000, 6000, 7000, 8000, 9000]\n",
    "})\n",
    "\n",
    "print('___________________')\n",
    "\n",
    "df.to_csv('pandas_df.csv', index=False)\n",
    "new_df = pd.read_csv('pandas_df.csv')\n",
    "\n",
    "print('___________________')\n",
    "print(new_df)\n",
    "\n",
    "new_df['age'] = [25, 30, 35, 40, 45]\n",
    "print(new_df)\n"
   ]
  },
  {
   "cell_type": "code",
   "execution_count": 14,
   "id": "bb489981",
   "metadata": {},
   "outputs": [
    {
     "name": "stdout",
     "output_type": "stream",
     "text": [
      "___________________\n",
      "   user_id  min_payment  max_payment  sum_payment\n",
      "0        1          100          100          100\n",
      "1        2          200          200          200\n",
      "2        3          300          300          300\n",
      "3        4          400          400          400\n",
      "4        5          500          500          500\n",
      "___________________\n",
      "2\n",
      "5\n"
     ]
    }
   ],
   "source": [
    "aggdf = pd.DataFrame({\n",
    "    'user_id': [1,2,3,4,5],\n",
    "    'payment': [100,200,300,400,500],\n",
    "})\n",
    "print('___________________')\n",
    "resagg = aggdf.groupby('user_id', as_index=False).agg(min_payment=('payment','min'),\n",
    "                                                     max_payment=('payment','max'),\n",
    "                                                     sum_payment=('payment','sum'))\n",
    "print(resagg)\n",
    "print('___________________')\n",
    "print(aggdf.shape[1])\n",
    "print(aggdf.shape[0])"
   ]
  },
  {
   "cell_type": "code",
   "execution_count": null,
   "id": "0d006b56",
   "metadata": {},
   "outputs": [],
   "source": []
  }
 ],
 "metadata": {
  "kernelspec": {
   "display_name": ".venv",
   "language": "python",
   "name": "python3"
  },
  "language_info": {
   "codemirror_mode": {
    "name": "ipython",
    "version": 3
   },
   "file_extension": ".py",
   "mimetype": "text/x-python",
   "name": "python",
   "nbconvert_exporter": "python",
   "pygments_lexer": "ipython3",
   "version": "3.13.7"
  }
 },
 "nbformat": 4,
 "nbformat_minor": 5
}
