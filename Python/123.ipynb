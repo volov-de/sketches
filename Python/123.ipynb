{
 "cells": [
  {
   "cell_type": "code",
   "execution_count": 28,
   "id": "c654430d",
   "metadata": {},
   "outputs": [
    {
     "name": "stdout",
     "output_type": "stream",
     "text": [
      "123\n"
     ]
    }
   ],
   "source": [
    "print('123')"
   ]
  },
  {
   "cell_type": "code",
   "execution_count": 29,
   "id": "dd94e5f6",
   "metadata": {},
   "outputs": [
    {
     "name": "stdout",
     "output_type": "stream",
     "text": [
      "True\n"
     ]
    }
   ],
   "source": [
    "x = 123321\n",
    "s = str(x)\n",
    "for i in range(len(s) // 2):\n",
    "    if s[i] != s[-1 - i]:\n",
    "        print(False)\n",
    "        break\n",
    "else:\n",
    "    print(True)\n"
   ]
  },
  {
   "cell_type": "code",
   "execution_count": 30,
   "id": "9a753e30",
   "metadata": {},
   "outputs": [
    {
     "name": "stdout",
     "output_type": "stream",
     "text": [
      "True\n"
     ]
    }
   ],
   "source": [
    "s = \"казак\"\n",
    "for i in range(len(s) // 2):\n",
    "    if s[i] != s[-1 - i]:\n",
    "        print(False)\n",
    "        break\n",
    "else:\n",
    "    print(True)"
   ]
  },
  {
   "cell_type": "code",
   "execution_count": 31,
   "id": "8949fde2",
   "metadata": {},
   "outputs": [],
   "source": [
    "class Solution:\n",
    "    def find_valley_element(self, nums: list[int]) -> int:\n",
    "        min = 0\n",
    "        for i in range(len(nums)):\n",
    "            if nums[i] < min and nums[i]>nums[i+1] and nums[i]> nums[i-1]:\n",
    "                min = nums[i]\n",
    "        return (min)\n"
   ]
  },
  {
   "cell_type": "code",
   "execution_count": 33,
   "id": "51c85b09",
   "metadata": {},
   "outputs": [],
   "source": [
    "s = [\"h\",\"e\",\"l\",\"l\",\"o\"]\n",
    "\n",
    "class Solution:\n",
    "    def reverse_string(self, s: list[str]) -> None:\n",
    "        # Напишите здесь свой код\n",
    "        left, right = 0, len(s) - 1\n",
    "        while left < right:\n",
    "            s[left], s[right] = s[right], s[left]\n",
    "            left += 1\n",
    "            right -= 1"
   ]
  },
  {
   "cell_type": "code",
   "execution_count": 3,
   "id": "46114378",
   "metadata": {},
   "outputs": [
    {
     "name": "stdout",
     "output_type": "stream",
     "text": [
      "1\n",
      "1\n",
      "1\n",
      "___________________\n",
      "a    2\n",
      "b    3\n",
      "c    4\n",
      "d    5\n",
      "e    6\n",
      "dtype: int64\n",
      "___________________\n",
      "c    4\n",
      "d    5\n",
      "e    6\n",
      "dtype: int64\n",
      "   id   name  surname  salary\n",
      "0   1   John      Doe    5000\n",
      "1   2   Jane      Doe    6000\n",
      "2   3   Mike    Smith    7000\n",
      "3   4  Emily    Smith    8000\n",
      "4   5  David  Johnson    9000\n"
     ]
    },
    {
     "name": "stderr",
     "output_type": "stream",
     "text": [
      "/tmp/.private/volov/ipykernel_12999/2281174630.py:5: FutureWarning: Series.__getitem__ treating keys as positions is deprecated. In a future version, integer keys will always be treated as labels (consistent with DataFrame behavior). To access a value by position, use `ser.iloc[pos]`\n",
      "  print(s[0])\n"
     ]
    }
   ],
   "source": [
    "import pandas as pd\n",
    "\n",
    "s = pd.Series([1,2,3,4,5], index=['a', 'b', 'c', 'd', 'e'])\n",
    "\n",
    "print(s[0])\n",
    "print(s.iloc[0])\n",
    "print(s.loc['a'])\n",
    "\n",
    "print('___________________')\n",
    "s2 = s + 1\n",
    "print(s2)\n",
    "\n",
    "print('___________________')\n",
    "print(s2[s2 > 3])\n",
    "\n",
    "df = pd.DataFrame({\n",
    "    'id': [1,2,3,4,5],\n",
    "    'name': ['John', 'Jane', 'Mike', 'Emily', 'David'],\n",
    "    'surname': ['Doe', 'Doe', 'Smith', 'Smith', 'Johnson'],\n",
    "    'salary': [5000, 6000, 7000, 8000, 9000]\n",
    "})\n",
    "\n",
    "df.to_csv('pandas_df.csv', index=False)\n",
    "new_df = pd.read_csv('pandas_df.csv')\n",
    "print(new_df)"
   ]
  }
 ],
 "metadata": {
  "kernelspec": {
   "display_name": ".venv",
   "language": "python",
   "name": "python3"
  },
  "language_info": {
   "codemirror_mode": {
    "name": "ipython",
    "version": 3
   },
   "file_extension": ".py",
   "mimetype": "text/x-python",
   "name": "python",
   "nbconvert_exporter": "python",
   "pygments_lexer": "ipython3",
   "version": "3.12.7"
  }
 },
 "nbformat": 4,
 "nbformat_minor": 5
}
