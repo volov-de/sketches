{
 "cells": [
  {
   "cell_type": "code",
   "execution_count": null,
   "id": "e774750e",
   "metadata": {},
   "outputs": [
    {
     "name": "stderr",
     "output_type": "stream",
     "text": [
      "Warning: Ignoring non-Spark config property: fs.s3a.endpoint\n"
     ]
    },
    {
     "name": "stdout",
     "output_type": "stream",
     "text": [
      "25/08/05 13:37:47 WARN NativeCodeLoader: Unable to load native-hadoop library for your platform... using builtin-java classes where applicable\n"
     ]
    },
    {
     "name": "stderr",
     "output_type": "stream",
     "text": [
      "Setting default log level to \"WARN\".\n",
      "To adjust logging level use sc.setLogLevel(newLevel). For SparkR, use setLogLevel(newLevel).\n"
     ]
    }
   ],
   "source": [
    "import os\n",
    "import socket\n",
    "from pyspark.sql import SparkSession\n",
    "from pyspark.sql.functions import *\n",
    "from pyspark.sql.types import *\n",
    "\n",
    "# S3\n",
    "aws_access_key = \"aws_access_key\"\n",
    "aws_secret_key = \"aws_secret_key\"\n",
    "s3_bucket = \"datasets\"\n",
    "s3_endpoint_url = \"private\"\n",
    "\n",
    "APACHE_MASTER_IP = socket.gethostbyname(\"apache-spark-master-0.apache-spark-headless.apache-spark.svc.cluster.local\")\n",
    "APACHE_MASTER_URL = f\"spark://{APACHE_MASTER_IP}:7077\"\n",
    "POD_IP = os.environ[\"MY_POD_IP\"]\n",
    "\n",
    "SPARK_APP_NAME = f\"spark-{os.environ['HOSTNAME']}\"  \n",
    "JARS = \"\"\"/nfs/env/lib/python3.8/site-packages/pyspark/jars/clickhouse-native-jdbc-shaded-2.6.5.jar, \n",
    "/nfs/env/lib/python3.8/site-packages/pyspark/jars/hadoop-aws-3.3.4.jar,\n",
    "/nfs/env/lib/python3.8/site-packages/pyspark/jars/aws-java-sdk-bundle-1.12.433.jar,\n",
    "/nfs/env/lib/python3.8/site-packages/pyspark/jars/postgresql-42.7.4.jar\n",
    "\"\"\"\n",
    "\n",
    "MEM = \"512m\"  \n",
    "CORES = 1  \n",
    "\n",
    "spark = SparkSession. \\\n",
    "    builder. \\\n",
    "    appName(SPARK_APP_NAME). \\\n",
    "    master(\"local\"). \\\n",
    "    config(\"spark.executor.memory\", MEM). \\\n",
    "    config(\"spark.jars\", JARS). \\\n",
    "    config(\"spark.executor.cores\", CORES). \\\n",
    "    config(\"spark.hadoop.fs.s3a.endpoint\", s3_endpoint_url). \\\n",
    "    config(\"spark.hadoop.fs.s3a.access.key\", aws_access_key). \\\n",
    "    config(\"spark.hadoop.fs.s3a.secret.key\", aws_secret_key). \\\n",
    "    config(\"fs.s3a.endpoint\", s3_endpoint_url). \\\n",
    "    config(\"spark.hadoop.fs.s3a.impl\", \"org.apache.hadoop.fs.s3a.S3AFileSystem\"). \\\n",
    "    config(\"spark.hadoop.fs.s3a.path.style.access\", True). \\\n",
    "    config(\"spark.hadoop.fs.s3a.committer.name\", \"directory\"). \\\n",
    "    config(\"spark.hadoop.fs.s3a.aws.credentials.provider\",\n",
    "           \"org.apache.hadoop.fs.s3a.SimpleAWSCredentialsProvider\"). \\\n",
    "    config(\"spark.hadoop.fs.s3a.connection.ssl.enabled\", \"false\"). \\\n",
    "    getOrCreate()"
   ]
  },
  {
   "cell_type": "code",
   "execution_count": null,
   "id": "dcef45a5",
   "metadata": {},
   "outputs": [
    {
     "name": "stdout",
     "output_type": "stream",
     "text": [
      "25/08/05 13:37:52 WARN MetricsConfig: Cannot locate configuration: tried hadoop-metrics2-s3a-file-system.properties,hadoop-metrics2.properties\n"
     ]
    },
    {
     "name": "stderr",
     "output_type": "stream",
     "text": [
      "[Stage 2:>                                                          (0 + 1) / 1]\r"
     ]
    },
    {
     "name": "stdout",
     "output_type": "stream",
     "text": [
      "+-------+------------------------------+------------------+--------------------------+--------------------------+\n",
      "|user_id|email                         |phone_number      |registration_date         |last_login_date           |\n",
      "+-------+------------------------------+------------------+--------------------------+--------------------------+\n",
      "|1      |johnsonjoshua@example.org     |+7 (939) 556-87-64|2023-10-10 18:40:32.720932|2024-03-11 03:37:48.321355|\n",
      "|2      |jillrhodes@.miller.com        |947-57-66         |2023-05-22 10:09:50.223086|2024-12-08 17:18:27.988359|\n",
      "|3      |williamjohnson@baldwin.net    |9312903351        |2023-01-20 13:39:12.144614|2023-03-07 18:44:03.436104|\n",
      "|4      |lrobinson@example.com         |79573896693       |2024-09-23 18:59:08.298061|2024-11-19 15:48:39.948513|\n",
      "|5      |blakeerik@example.com         |+79383642499      |2024-07-26 18:12:56.923251|2024-12-28 02:26:11.991295|\n",
      "|6      |joshua35@example.org          |+79782446455      |2023-06-30 07:45:25.755943|2024-08-23 16:43:32.537551|\n",
      "|7      |jamesmichael@MUNOZ-ROMAN.INFO |+79814052834      |2024-06-16 13:45:15.165352|null                      |\n",
      "|8      |@martinez.com                 |8-943-962-1674    |2024-05-01 18:16:47.711698|2024-10-04 18:25:51.244804|\n",
      "|9      | barbara10@.COM               |79635859883       |2024-02-04 14:11:34.334803|2024-02-21 14:57:31.174625|\n",
      "|10     |kendragalloway@example.org    |9936794356        |2023-10-16 22:46:09.292003|2024-09-11 20:42:05.247057|\n",
      "|11     |jamesshawn@example.com        |+79348542969      |2024-01-24 17:12:19.679865|2024-02-10 21:07:43.957529|\n",
      "|12     |mitchellclark@example.com     |968-11-23         |2024-01-05 08:15:31.951116|2024-04-10 16:39:22.186383|\n",
      "|13     |lynchgeorge                   |8 (946) 666-46-19 |2024-02-13 17:32:05.011725|2024-04-26 00:24:33.658935|\n",
      "|14     |frankgray@example.net         |null              |2024-03-29 16:58:32.056991|2024-08-02 01:33:31.372372|\n",
      "|15     |gabriellecameron@example.org  |+79199648751      |2023-08-30 13:08:05.586235|2024-03-27 16:46:46.166405|\n",
      "|16     |lydiatrujillo@adams-clark.org |+79422838859      |2024-04-19 01:29:09.22718 |null                      |\n",
      "|17     |jason76@example.net           |+7 (924) 119-66-50|2023-03-28 14:04:12.0307  |null                      |\n",
      "|18     |ithomas@mcgee.com             |89589944387       |2024-01-24 01:57:59.580757|2024-04-17 12:32:22.6703  |\n",
      "|19     |ZHURST@robinson-bright.net    |+7 (988) 821-72-50|2023-02-24 14:27:53.410221|2023-12-06 05:33:29.596112|\n",
      "|20     |ddavis@HERNANDEZ.BIZ          |null              |2024-09-07 23:40:29.6083  |2024-09-28 11:59:42.343135|\n",
      "+-------+------------------------------+------------------+--------------------------+--------------------------+\n",
      "only showing top 20 rows\n",
      "\n"
     ]
    },
    {
     "name": "stderr",
     "output_type": "stream",
     "text": [
      "                                                                                \r"
     ]
    }
   ],
   "source": [
    "# Чтение данных из S3\n",
    "users_df = spark.read.csv(\n",
    "    \"s3a://datasets/users.csv\",\n",
    "    header=True,\n",
    "    inferSchema=True\n",
    ")\n",
    "cleaned_df = users_df.select(\n",
    "    \"user_id\",\n",
    "    \"email\",\n",
    "    \"phone_number\",\n",
    "    \"registration_date\",\n",
    "    \"last_login_date\"\n",
    ").dropDuplicates([\"user_id\"])\n",
    "\n",
    "cleaned_df.show(truncate=False)"
   ]
  },
  {
   "cell_type": "code",
   "execution_count": 3,
   "id": "de248f50",
   "metadata": {},
   "outputs": [
    {
     "name": "stdout",
     "output_type": "stream",
     "text": [
      "+------------------------------+------------------------------+\n",
      "|email                         |clean_email                   |\n",
      "+------------------------------+------------------------------+\n",
      "|johnsonjoshua@example.org     |johnsonjoshua@example.org     |\n",
      "|jillrhodes@.miller.com        |jillrhodes@.miller.com        |\n",
      "|williamjohnson@baldwin.net    |williamjohnson@baldwin.net    |\n",
      "|lrobinson@example.com         |lrobinson@example.com         |\n",
      "|blakeerik@example.com         |blakeerik@example.com         |\n",
      "|joshua35@example.org          |joshua35@example.org          |\n",
      "|jamesmichael@MUNOZ-ROMAN.INFO |jamesmichael@munoz-roman.info |\n",
      "|@martinez.com                 |@martinez.com                 |\n",
      "| barbara10@.COM               | barbara10@.com               |\n",
      "|kendragalloway@example.org    |kendragalloway@example.org    |\n",
      "|jamesshawn@example.com        |jamesshawn@example.com        |\n",
      "|mitchellclark@example.com     |mitchellclark@example.com     |\n",
      "|lynchgeorge                   |lynchgeorge                   |\n",
      "|frankgray@example.net         |frankgray@example.net         |\n",
      "|gabriellecameron@example.org  |gabriellecameron@example.org  |\n",
      "|lydiatrujillo@adams-clark.org |lydiatrujillo@adams-clark.org |\n",
      "|jason76@example.net           |jason76@example.net           |\n",
      "|ithomas@mcgee.com             |ithomas@mcgee.com             |\n",
      "|ZHURST@robinson-bright.net    |zhurst@robinson-bright.net    |\n",
      "|ddavis@HERNANDEZ.BIZ          |ddavis@hernandez.biz          |\n",
      "+------------------------------+------------------------------+\n",
      "only showing top 20 rows\n",
      "\n"
     ]
    }
   ],
   "source": [
    "# Очистка email\n",
    "cleaned_df = cleaned_df.withColumn(\n",
    "    \"clean_email\",\n",
    "    lower(col(\"email\"))\n",
    ")\n",
    "\n",
    "cleaned_df.select(\"email\", \"clean_email\").show(truncate=False)"
   ]
  },
  {
   "cell_type": "code",
   "execution_count": 4,
   "id": "866adaa7",
   "metadata": {},
   "outputs": [
    {
     "name": "stdout",
     "output_type": "stream",
     "text": [
      "+------------------------------+--------------+\n",
      "|clean_email                   |is_valid_email|\n",
      "+------------------------------+--------------+\n",
      "|johnsonjoshua@example.org     |true          |\n",
      "|jillrhodes@.miller.com        |true          |\n",
      "|williamjohnson@baldwin.net    |false         |\n",
      "|lrobinson@example.com         |true          |\n",
      "|blakeerik@example.com         |true          |\n",
      "|joshua35@example.org          |true          |\n",
      "|jamesmichael@munoz-roman.info |true          |\n",
      "|@martinez.com                 |false         |\n",
      "| barbara10@.com               |false         |\n",
      "|kendragalloway@example.org    |true          |\n",
      "|jamesshawn@example.com        |true          |\n",
      "|mitchellclark@example.com     |true          |\n",
      "|lynchgeorge                   |false         |\n",
      "|frankgray@example.net         |true          |\n",
      "|gabriellecameron@example.org  |true          |\n",
      "|lydiatrujillo@adams-clark.org |false         |\n",
      "|jason76@example.net           |true          |\n",
      "|ithomas@mcgee.com             |false         |\n",
      "|zhurst@robinson-bright.net    |true          |\n",
      "|ddavis@hernandez.biz          |true          |\n",
      "+------------------------------+--------------+\n",
      "only showing top 20 rows\n",
      "\n"
     ]
    }
   ],
   "source": [
    "# Добавление is_valid_email\n",
    "email_regex = \"^[a-zA-Z0-9._%+-]+@[a-zA-Z0-9.-]+\\\\.[a-zA-Z]{2,}$\"\n",
    "cleaned_df = cleaned_df.withColumn(\n",
    "    \"is_valid_email\",\n",
    "    col(\"clean_email\").rlike(email_regex)\n",
    ")\n",
    "\n",
    "cleaned_df.select(\"clean_email\", \"is_valid_email\").show(truncate=False)"
   ]
  },
  {
   "cell_type": "code",
   "execution_count": 5,
   "id": "6630b73f",
   "metadata": {},
   "outputs": [
    {
     "name": "stdout",
     "output_type": "stream",
     "text": [
      "+------------------+-----------+\n",
      "|phone_number      |clean_phone|\n",
      "+------------------+-----------+\n",
      "|+7 (939) 556-87-64|79395568764|\n",
      "|947-57-66         |9475766    |\n",
      "|9312903351        |9312903351 |\n",
      "|79573896693       |79573896693|\n",
      "|+79383642499      |79383642499|\n",
      "|+79782446455      |79782446455|\n",
      "|+79814052834      |79814052834|\n",
      "|8-943-962-1674    |89439621674|\n",
      "|79635859883       |79635859883|\n",
      "|9936794356        |9936794356 |\n",
      "|+79348542969      |79348542969|\n",
      "|968-11-23         |9681123    |\n",
      "|8 (946) 666-46-19 |89466664619|\n",
      "|null              |null       |\n",
      "|+79199648751      |79199648751|\n",
      "|+79422838859      |79422838859|\n",
      "|+7 (924) 119-66-50|79241196650|\n",
      "|89589944387       |89589944387|\n",
      "|+7 (988) 821-72-50|79888217250|\n",
      "|null              |null       |\n",
      "+------------------+-----------+\n",
      "only showing top 20 rows\n",
      "\n"
     ]
    }
   ],
   "source": [
    "# Удаление всех нецифровых символов\n",
    "cleaned_df = cleaned_df.withColumn(\n",
    "    \"clean_phone\",\n",
    "    regexp_replace(col(\"phone_number\"), \"[^0-9]\", \"\")\n",
    ")\n",
    "\n",
    "cleaned_df.select(\"phone_number\", \"clean_phone\").show(truncate=False)"
   ]
  },
  {
   "cell_type": "code",
   "execution_count": 6,
   "id": "bbd3f9aa",
   "metadata": {},
   "outputs": [
    {
     "name": "stdout",
     "output_type": "stream",
     "text": [
      "+------------+\n",
      "|clean_phone |\n",
      "+------------+\n",
      "|+79395568764|\n",
      "|+79475766   |\n",
      "|+79312903351|\n",
      "|+79573896693|\n",
      "|+79383642499|\n",
      "|+79782446455|\n",
      "|+79814052834|\n",
      "|+79439621674|\n",
      "|+79635859883|\n",
      "|+79936794356|\n",
      "|+79348542969|\n",
      "|+79681123   |\n",
      "|+79466664619|\n",
      "|null        |\n",
      "|+79199648751|\n",
      "|+79422838859|\n",
      "|+79241196650|\n",
      "|+79589944387|\n",
      "|+79888217250|\n",
      "|null        |\n",
      "+------------+\n",
      "only showing top 20 rows\n",
      "\n"
     ]
    }
   ],
   "source": [
    "# Преобразование к международному формату\n",
    "cleaned_df = cleaned_df.withColumn(\n",
    "    \"clean_phone\",\n",
    "    when(col(\"clean_phone\").like(\"8%\"), concat(lit(\"+7\"), substring(col(\"clean_phone\"), 2, 10)))\n",
    "    .when(col(\"clean_phone\").like(\"7%\"), concat(lit(\"+\"), col(\"clean_phone\")))\n",
    "    .when(col(\"clean_phone\").like(\"9%\"), concat(lit(\"+7\"), col(\"clean_phone\")))\n",
    "    .otherwise(None)\n",
    ")\n",
    "\n",
    "cleaned_df.select(\"clean_phone\").show(truncate=False)"
   ]
  },
  {
   "cell_type": "code",
   "execution_count": 7,
   "id": "ad18fefa",
   "metadata": {},
   "outputs": [
    {
     "name": "stdout",
     "output_type": "stream",
     "text": [
      "+------------+--------------+\n",
      "|clean_phone |is_valid_phone|\n",
      "+------------+--------------+\n",
      "|+79395568764|true          |\n",
      "|+79475766   |false         |\n",
      "|+79312903351|true          |\n",
      "|+79573896693|true          |\n",
      "|+79383642499|true          |\n",
      "|+79782446455|true          |\n",
      "|+79814052834|true          |\n",
      "|+79439621674|true          |\n",
      "|+79635859883|true          |\n",
      "|+79936794356|true          |\n",
      "|+79348542969|true          |\n",
      "|+79681123   |false         |\n",
      "|+79466664619|true          |\n",
      "|null        |false         |\n",
      "|+79199648751|true          |\n",
      "|+79422838859|true          |\n",
      "|+79241196650|true          |\n",
      "|+79589944387|true          |\n",
      "|+79888217250|true          |\n",
      "|null        |false         |\n",
      "+------------+--------------+\n",
      "only showing top 20 rows\n",
      "\n"
     ]
    }
   ],
   "source": [
    "# Проверка корректности телефона\n",
    "# - должен начинаться с +7\n",
    "# - длина должна быть 12 символов (включая +7)\n",
    "cleaned_df = cleaned_df.withColumn(\n",
    "    \"is_valid_phone\",\n",
    "    when(\n",
    "        (col(\"clean_phone\").like(\"+7%\")) & (length(col(\"clean_phone\")) == 12),\n",
    "        True\n",
    "    ).otherwise(False)\n",
    ")\n",
    "\n",
    "cleaned_df.select(\"clean_phone\",\"is_valid_phone\").show(truncate=False)"
   ]
  },
  {
   "cell_type": "code",
   "execution_count": 8,
   "id": "48ccee72",
   "metadata": {},
   "outputs": [
    {
     "name": "stdout",
     "output_type": "stream",
     "text": [
      "+--------------+--------------+----------------+\n",
      "|is_valid_email|is_valid_phone|is_valid_contact|\n",
      "+--------------+--------------+----------------+\n",
      "|true          |true          |true            |\n",
      "|true          |false         |false           |\n",
      "|false         |true          |false           |\n",
      "|true          |true          |true            |\n",
      "|true          |true          |true            |\n",
      "|true          |true          |true            |\n",
      "|true          |true          |true            |\n",
      "|false         |true          |false           |\n",
      "|false         |true          |false           |\n",
      "|true          |true          |true            |\n",
      "|true          |true          |true            |\n",
      "|true          |false         |false           |\n",
      "|false         |true          |false           |\n",
      "|true          |false         |false           |\n",
      "|true          |true          |true            |\n",
      "|false         |true          |false           |\n",
      "|true          |true          |true            |\n",
      "|false         |true          |false           |\n",
      "|true          |true          |true            |\n",
      "|true          |false         |false           |\n",
      "+--------------+--------------+----------------+\n",
      "only showing top 20 rows\n",
      "\n"
     ]
    }
   ],
   "source": [
    "# Добавить итоговый флаг валидности контактных данных\n",
    "cleaned_df = cleaned_df.withColumn(\n",
    "    \"is_valid_contact\",\n",
    "    when(\n",
    "        (col(\"is_valid_email\") == True) & (col(\"is_valid_phone\") == True),\n",
    "        True\n",
    "    ).otherwise(False)\n",
    ")\n",
    "\n",
    "cleaned_df.select(\"is_valid_email\",\"is_valid_phone\",\"is_valid_contact\").show(truncate=False)"
   ]
  },
  {
   "cell_type": "code",
   "execution_count": 9,
   "id": "178400a1",
   "metadata": {},
   "outputs": [],
   "source": [
    "# Проверки корректности данных\n",
    "wrong_email_format = cleaned_df.filter(\n",
    "    col(\"is_valid_email\") &\n",
    "    (~col(\"clean_email\").rlike(\"^[a-z0-9._%+-]+@[a-z0-9.-]+\\\\.[a-z]{2,}$\"))\n",
    ").count()\n",
    "\n",
    "wrong_phone_format = cleaned_df.filter(\n",
    "    col(\"is_valid_phone\") &\n",
    "    (~col(\"clean_phone\").startswith(\"+7\") | (length(col(\"clean_phone\")) != 12))\n",
    ").count()\n",
    "\n",
    "invalid_contact_flag = cleaned_df.filter(\n",
    "    col(\"is_valid_contact\") &\n",
    "    (~col(\"is_valid_email\") | ~col(\"is_valid_phone\"))\n",
    ").count()"
   ]
  },
  {
   "cell_type": "code",
   "execution_count": 10,
   "id": "e59e9e1d",
   "metadata": {},
   "outputs": [],
   "source": [
    "# Проверяем результаты\n",
    "assert wrong_email_format == 0, \"Найдены некорректно очищенные email\"\n",
    "assert wrong_phone_format == 0, \"Найдены некорректно очищенные телефоны\"\n",
    "assert invalid_contact_flag == 0, \"Найдены ошибки в is_valid_contact\""
   ]
  },
  {
   "cell_type": "code",
   "execution_count": 11,
   "id": "55c59142",
   "metadata": {},
   "outputs": [
    {
     "name": "stdout",
     "output_type": "stream",
     "text": [
      "+------------------------------+------------------+\n",
      "|email                         |phone_number      |\n",
      "+------------------------------+------------------+\n",
      "|johnsonjoshua@example.org     |+7 (939) 556-87-64|\n",
      "|jillrhodes@.miller.com        |947-57-66         |\n",
      "|williamjohnson@baldwin.net    |9312903351        |\n",
      "|lrobinson@example.com         |79573896693       |\n",
      "|blakeerik@example.com         |+79383642499      |\n",
      "|joshua35@example.org          |+79782446455      |\n",
      "|jamesmichael@MUNOZ-ROMAN.INFO |+79814052834      |\n",
      "|@martinez.com                 |8-943-962-1674    |\n",
      "| barbara10@.COM               |79635859883       |\n",
      "|kendragalloway@example.org    |9936794356        |\n",
      "|jamesshawn@example.com        |+79348542969      |\n",
      "|mitchellclark@example.com     |968-11-23         |\n",
      "|lynchgeorge                   |8 (946) 666-46-19 |\n",
      "|frankgray@example.net         |null              |\n",
      "|gabriellecameron@example.org  |+79199648751      |\n",
      "|lydiatrujillo@adams-clark.org |+79422838859      |\n",
      "|jason76@example.net           |+7 (924) 119-66-50|\n",
      "|ithomas@mcgee.com             |89589944387       |\n",
      "|ZHURST@robinson-bright.net    |+7 (988) 821-72-50|\n",
      "|ddavis@HERNANDEZ.BIZ          |null              |\n",
      "+------------------------------+------------------+\n",
      "only showing top 20 rows\n",
      "\n",
      "+------------------------------+------------+--------------+--------------+----------------+\n",
      "|clean_email                   |clean_phone |is_valid_email|is_valid_phone|is_valid_contact|\n",
      "+------------------------------+------------+--------------+--------------+----------------+\n",
      "|johnsonjoshua@example.org     |+79395568764|true          |true          |true            |\n",
      "|jillrhodes@.miller.com        |+79475766   |true          |false         |false           |\n",
      "|williamjohnson@baldwin.net    |+79312903351|false         |true          |false           |\n",
      "|lrobinson@example.com         |+79573896693|true          |true          |true            |\n",
      "|blakeerik@example.com         |+79383642499|true          |true          |true            |\n",
      "|joshua35@example.org          |+79782446455|true          |true          |true            |\n",
      "|jamesmichael@munoz-roman.info |+79814052834|true          |true          |true            |\n",
      "|@martinez.com                 |+79439621674|false         |true          |false           |\n",
      "| barbara10@.com               |+79635859883|false         |true          |false           |\n",
      "|kendragalloway@example.org    |+79936794356|true          |true          |true            |\n",
      "|jamesshawn@example.com        |+79348542969|true          |true          |true            |\n",
      "|mitchellclark@example.com     |+79681123   |true          |false         |false           |\n",
      "|lynchgeorge                   |+79466664619|false         |true          |false           |\n",
      "|frankgray@example.net         |null        |true          |false         |false           |\n",
      "|gabriellecameron@example.org  |+79199648751|true          |true          |true            |\n",
      "|lydiatrujillo@adams-clark.org |+79422838859|false         |true          |false           |\n",
      "|jason76@example.net           |+79241196650|true          |true          |true            |\n",
      "|ithomas@mcgee.com             |+79589944387|false         |true          |false           |\n",
      "|zhurst@robinson-bright.net    |+79888217250|true          |true          |true            |\n",
      "|ddavis@hernandez.biz          |null        |true          |false         |false           |\n",
      "+------------------------------+------------+--------------+--------------+----------------+\n",
      "only showing top 20 rows\n",
      "\n",
      "root\n",
      " |-- user_id: integer (nullable = true)\n",
      " |-- email: string (nullable = true)\n",
      " |-- phone_number: string (nullable = true)\n",
      " |-- registration_date: timestamp (nullable = true)\n",
      " |-- last_login_date: timestamp (nullable = true)\n",
      " |-- clean_email: string (nullable = true)\n",
      " |-- is_valid_email: boolean (nullable = true)\n",
      " |-- clean_phone: string (nullable = true)\n",
      " |-- is_valid_phone: boolean (nullable = false)\n",
      " |-- is_valid_contact: boolean (nullable = false)\n",
      "\n",
      "+-----------------------------+------------+\n",
      "|clean_email                  |clean_phone |\n",
      "+-----------------------------+------------+\n",
      "|johnsonjoshua@example.org    |+79395568764|\n",
      "|lrobinson@example.com        |+79573896693|\n",
      "|blakeerik@example.com        |+79383642499|\n",
      "|joshua35@example.org         |+79782446455|\n",
      "|jamesmichael@munoz-roman.info|+79814052834|\n",
      "|kendragalloway@example.org   |+79936794356|\n",
      "|jamesshawn@example.com       |+79348542969|\n",
      "|gabriellecameron@example.org |+79199648751|\n",
      "|jason76@example.net          |+79241196650|\n",
      "|zhurst@robinson-bright.net   |+79888217250|\n",
      "|cruzcaitlin@rice-maddox.com  |+79127934046|\n",
      "|maldonadoamanda@example.com  |+79834346315|\n",
      "|daniel62@example.com         |+79041094882|\n",
      "|mckaynancy@example.com       |+79912901153|\n",
      "|williamrodriguez@example.net |+79493416744|\n",
      "|meagan89@example.org         |+79588658757|\n",
      "|nathanielmartin@.sellers.com |+79275151780|\n",
      "|natasha43@example.org        |+79622525747|\n",
      "|nataliearroyo@example.org    |+79546780235|\n",
      "|wcabrera@example.net         |+79938052503|\n",
      "+-----------------------------+------------+\n",
      "only showing top 20 rows\n",
      "\n"
     ]
    }
   ],
   "source": [
    "users_df.select(\"email\",\"phone_number\").show(truncate=False)\n",
    "cleaned_df.select(\"clean_email\",\"clean_phone\",\"is_valid_email\",\"is_valid_phone\",\"is_valid_contact\").show(truncate=False)\n",
    "cleaned_df.printSchema()\n",
    "cleaned_df.select(\"clean_email\", \"clean_phone\").where(col(\"is_valid_contact\") == True).show(truncate=False)"
   ]
  },
  {
   "cell_type": "code",
   "execution_count": 12,
   "id": "a4f982bc-39d8-48d8-a515-f09c95ddf4b4",
   "metadata": {},
   "outputs": [],
   "source": [
    "spark.stop()"
   ]
  }
 ],
 "metadata": {
  "kernelspec": {
   "display_name": "Python 3 (ipykernel)",
   "language": "python",
   "name": "python3"
  },
  "language_info": {
   "codemirror_mode": {
    "name": "ipython",
    "version": 3
   },
   "file_extension": ".py",
   "mimetype": "text/x-python",
   "name": "python",
   "nbconvert_exporter": "python",
   "pygments_lexer": "ipython3",
   "version": "3.8.10"
  }
 },
 "nbformat": 4,
 "nbformat_minor": 5
}
