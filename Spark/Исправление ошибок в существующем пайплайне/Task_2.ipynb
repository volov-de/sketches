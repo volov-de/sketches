{
 "cells": [
  {
   "cell_type": "code",
   "execution_count": null,
   "id": "34d6da0d-9642-43f1-9a39-4b16db1f9ae4",
   "metadata": {},
   "outputs": [
    {
     "name": "stderr",
     "output_type": "stream",
     "text": [
      "Warning: Ignoring non-Spark config property: fs.s3a.endpoint\n"
     ]
    },
    {
     "name": "stdout",
     "output_type": "stream",
     "text": [
      "25/08/06 14:31:42 WARN NativeCodeLoader: Unable to load native-hadoop library for your platform... using builtin-java classes where applicable\n"
     ]
    },
    {
     "name": "stderr",
     "output_type": "stream",
     "text": [
      "Setting default log level to \"WARN\".\n",
      "To adjust logging level use sc.setLogLevel(newLevel). For SparkR, use setLogLevel(newLevel).\n"
     ]
    }
   ],
   "source": [
    "import os\n",
    "import socket\n",
    "from pyspark.sql import SparkSession\n",
    "from pyspark.sql.functions import *\n",
    "from pyspark.sql.types import *\n",
    "\n",
    "# S3\n",
    "aws_access_key = \"aws_access_key\"\n",
    "aws_secret_key = \"aws_secret_key\"\n",
    "s3_bucket = \"datasets\"\n",
    "s3_endpoint_url = \"private\"\n",
    " \n",
    "APACHE_MASTER_IP = socket.gethostbyname(\"apache-spark-master-0.apache-spark-headless.apache-spark.svc.cluster.local\")\n",
    "APACHE_MASTER_URL = f\"spark://{APACHE_MASTER_IP}:7077\"\n",
    "POD_IP = os.environ[\"MY_POD_IP\"]\n",
    "\n",
    "SPARK_APP_NAME = f\"spark-{os.environ['HOSTNAME']}\"  \n",
    "JARS = \"\"\"/nfs/env/lib/python3.8/site-packages/pyspark/jars/clickhouse-native-jdbc-shaded-2.6.5.jar, \n",
    "/nfs/env/lib/python3.8/site-packages/pyspark/jars/hadoop-aws-3.3.4.jar,\n",
    "/nfs/env/lib/python3.8/site-packages/pyspark/jars/aws-java-sdk-bundle-1.12.433.jar,\n",
    "/nfs/env/lib/python3.8/site-packages/pyspark/jars/postgresql-42.7.4.jar\n",
    "\"\"\"\n",
    "\n",
    "MEM = \"512m\"  \n",
    "CORES = 1  \n",
    "\n",
    "spark = SparkSession. \\\n",
    "    builder. \\\n",
    "    appName(SPARK_APP_NAME). \\\n",
    "    master(\"local\"). \\\n",
    "    config(\"spark.executor.memory\", MEM). \\\n",
    "    config(\"spark.jars\", JARS). \\\n",
    "    config(\"spark.executor.cores\", CORES). \\\n",
    "    config(\"spark.hadoop.fs.s3a.endpoint\", s3_endpoint_url). \\\n",
    "    config(\"spark.hadoop.fs.s3a.access.key\", aws_access_key). \\\n",
    "    config(\"spark.hadoop.fs.s3a.secret.key\", aws_secret_key). \\\n",
    "    config(\"fs.s3a.endpoint\", s3_endpoint_url). \\\n",
    "    config(\"spark.hadoop.fs.s3a.impl\", \"org.apache.hadoop.fs.s3a.S3AFileSystem\"). \\\n",
    "    config(\"spark.hadoop.fs.s3a.path.style.access\", True). \\\n",
    "    config(\"spark.hadoop.fs.s3a.committer.name\", \"directory\"). \\\n",
    "    config(\"spark.hadoop.fs.s3a.aws.credentials.provider\",\n",
    "           \"org.apache.hadoop.fs.s3a.SimpleAWSCredentialsProvider\"). \\\n",
    "    config(\"spark.hadoop.fs.s3a.connection.ssl.enabled\", \"false\"). \\\n",
    "    getOrCreate()"
   ]
  },
  {
   "cell_type": "code",
   "execution_count": 2,
   "id": "7bed2694-4d4f-481a-85ff-b55aeb7e9fe2",
   "metadata": {},
   "outputs": [],
   "source": [
    "#Проверка качестава данных\n",
    "def check(df, show_examples=True, example_limit=5):\n",
    "    total_rows = df.count()\n",
    "    print(f\"\\n Общее количество строк в DataFrame: {total_rows}\\n\")\n",
    "\n",
    "    for column in df.columns:\n",
    "        unique_count = df.select(countDistinct(col(column))).collect()[0][0]\n",
    "        null_count = df.filter(col(column).isNull()).count()\n",
    "        empty_count = df.filter(\n",
    "            (col(column).isNotNull()) & (col(column).cast(StringType()) == \"\")\n",
    "        ).count()\n",
    "\n",
    "        null_pct = (null_count / total_rows * 100) if total_rows else 0\n",
    "        empty_pct = (empty_count / total_rows * 100) if total_rows else 0\n",
    "\n",
    "        # Основная строка статистики\n",
    "        print(f\"{column:<20} | уник: {unique_count:<5} | nulls: {null_count:<4} ({null_pct:>4.1f}%) | пустых: {empty_count:<4} ({empty_pct:>4.1f}%)\", end=\"\")\n",
    "\n",
    "        # Примеры значений в одной строке\n",
    "        if show_examples:\n",
    "            examples = df.select(column).distinct().limit(example_limit).collect()\n",
    "            values = [str(row[0]) for row in examples]\n",
    "            joined = ', '.join(values)\n",
    "            print(f\" | Примеры: {joined}\")\n",
    "        else:\n",
    "            print()\n",
    "\n",
    "    print(\"\\n Анализ завершён.\\n\")"
   ]
  },
  {
   "cell_type": "code",
   "execution_count": null,
   "id": "003e7965-8b10-4e12-a3ed-5ca49562057a",
   "metadata": {},
   "outputs": [
    {
     "name": "stdout",
     "output_type": "stream",
     "text": [
      "25/08/06 14:31:47 WARN MetricsConfig: Cannot locate configuration: tried hadoop-metrics2-s3a-file-system.properties,hadoop-metrics2.properties\n"
     ]
    },
    {
     "name": "stderr",
     "output_type": "stream",
     "text": [
      "                                                                                \r"
     ]
    }
   ],
   "source": [
    "# Читаем данные\n",
    "users_df = spark.read.csv(\n",
    "    \"s3a://datasets_2/users.csv\",\n",
    "    header=True,\n",
    "    inferSchema=True\n",
    ")\n",
    "\n",
    "\n",
    "transactions_df = spark.read.csv(\n",
    "    \"s3a://datasets_2/transactions.csv\",\n",
    "    header=True,\n",
    "    inferSchema=True\n",
    ")"
   ]
  },
  {
   "cell_type": "code",
   "execution_count": 4,
   "id": "11fe4b4c-7035-4e7e-ba2a-2dcf91251c93",
   "metadata": {},
   "outputs": [],
   "source": [
    "# выбираем нужные столбцы\n",
    "users_clean = users_df.select(\n",
    "    \"user_id\",\n",
    "    \"email\",\n",
    "    \"registration_date\"\n",
    ")\n",
    "\n",
    "# выбираем нужные столбцы\n",
    "transactions_clean = transactions_df.select(\n",
    "    \"transaction_id\",\n",
    "    \"user_id\",\n",
    "    \"transaction_date\",\n",
    "    \"amount\",\n",
    "    \"status\",\n",
    "    \"payment_method\",\n",
    "    \"currency\"\n",
    ")"
   ]
  },
  {
   "cell_type": "code",
   "execution_count": 5,
   "id": "141dde03-20c4-4889-8abc-cae690c9d76f",
   "metadata": {},
   "outputs": [
    {
     "name": "stdout",
     "output_type": "stream",
     "text": [
      "\n",
      " Общее количество строк в DataFrame: 1000\n",
      "\n",
      "user_id              | уник: 1000  | nulls: 0    ( 0.0%) | пустых: 0    ( 0.0%)\n",
      "email                | уник: 1000  | nulls: 0    ( 0.0%) | пустых: 0    ( 0.0%)\n",
      "registration_date    | уник: 1000  | nulls: 0    ( 0.0%) | пустых: 0    ( 0.0%)\n",
      "phone_number         | уник: 949   | nulls: 51   ( 5.1%) | пустых: 0    ( 0.0%)\n",
      "user_agent           | уник: 958   | nulls: 0    ( 0.0%) | пустых: 0    ( 0.0%)\n",
      "ip_address           | уник: 1000  | nulls: 0    ( 0.0%) | пустых: 0    ( 0.0%)\n",
      "last_login_date      | уник: 902   | nulls: 98   ( 9.8%) | пустых: 0    ( 0.0%)\n",
      "\n",
      " Анализ завершён.\n",
      "\n",
      "\n",
      " Общее количество строк в DataFrame: 5000\n",
      "\n",
      "transaction_id       | уник: 5000  | nulls: 0    ( 0.0%) | пустых: 0    ( 0.0%)\n",
      "user_id              | уник: 989   | nulls: 0    ( 0.0%) | пустых: 0    ( 0.0%)\n",
      "transaction_date     | уник: 5000  | nulls: 0    ( 0.0%) | пустых: 0    ( 0.0%)\n",
      "amount               | уник: 5000  | nulls: 0    ( 0.0%) | пустых: 0    ( 0.0%)\n",
      "status               | уник: 3     | nulls: 112  ( 2.2%) | пустых: 0    ( 0.0%)\n",
      "payment_method       | уник: 9     | nulls: 0    ( 0.0%) | пустых: 0    ( 0.0%)\n",
      "currency             | уник: 6     | nulls: 0    ( 0.0%) | пустых: 0    ( 0.0%)\n",
      "\n",
      " Анализ завершён.\n",
      "\n"
     ]
    }
   ],
   "source": [
    "check(users_df,show_examples=False)\n",
    "check(transactions_df,show_examples=False)"
   ]
  },
  {
   "cell_type": "code",
   "execution_count": 6,
   "id": "abe9bad6-7ad5-4ab0-8d46-a10493a12c18",
   "metadata": {},
   "outputs": [
    {
     "name": "stdout",
     "output_type": "stream",
     "text": [
      "\n",
      " Общее количество строк в DataFrame: 4225\n",
      "\n",
      "transaction_id       | уник: 4225  | nulls: 0    ( 0.0%) | пустых: 0    ( 0.0%) | Примеры: 148, 463, 833, 1238, 1342\n",
      "user_id              | уник: 975   | nulls: 0    ( 0.0%) | пустых: 0    ( 0.0%) | Примеры: 148, 833, 471, 496, 463\n",
      "transaction_date     | уник: 4225  | nulls: 0    ( 0.0%) | пустых: 0    ( 0.0%) | Примеры: 2024-01-24 14:22:46.699853, 2024-10-26 22:58:03.130009, 2024-05-05 07:27:29.844058, 2024-01-15 00:54:22.913274, 2024-09-01 07:39:00.271930\n",
      "amount               | уник: 4225  | nulls: 0    ( 0.0%) | пустых: 0    ( 0.0%) | Примеры: 114.43160754491899, 80.9796371294577, 100.23005435485695, 184.21742580624905, 127.9313266377257\n",
      "status               | уник: 1     | nulls: 0    ( 0.0%) | пустых: 0    ( 0.0%) | Примеры: completed\n",
      "payment_method       | уник: 3     | nulls: 0    ( 0.0%) | пустых: 0    ( 0.0%) | Примеры: paypal, banktransfer, card\n",
      "currency             | уник: 3     | nulls: 0    ( 0.0%) | пустых: 0    ( 0.0%) | Примеры: eur , usd, eur\n",
      "\n",
      " Анализ завершён.\n",
      "\n"
     ]
    }
   ],
   "source": [
    "transactions_clean = transactions_clean.filter(col('status') == 'completed')\n",
    "transactions_clean = transactions_clean.withColumn(\"currency\",lower(col(\"currency\")))\\\n",
    "                                     .withColumn(\"payment_method\",lower(col(\"payment_method\")))\\\n",
    "                                     .withColumn(\"payment_method\",regexp_replace(col(\"payment_method\"), \"[ _]\", \"\"))\\\n",
    "                                     .withColumn('amount', when((col('amount').isNull()), 0).otherwise(col('amount')))\\\n",
    "                                     .withColumn('status', when((col('status').isNull()), 'failed').otherwise(col('status')))  \n",
    "check(transactions_clean)"
   ]
  },
  {
   "cell_type": "code",
   "execution_count": 7,
   "id": "155cc1f3-c2a1-40f7-91b3-4c16b65c95c9",
   "metadata": {},
   "outputs": [],
   "source": [
    "# Объединяем таблицы и считаем метрики\n",
    "user_transactions = users_clean.join(\n",
    "    transactions_clean,\n",
    "    \"user_id\",\n",
    "    \"left\"\n",
    ")"
   ]
  },
  {
   "cell_type": "code",
   "execution_count": 8,
   "id": "55b9c068-234c-42bc-9d9e-a59effb5b6ba",
   "metadata": {},
   "outputs": [],
   "source": [
    "user_metrics = user_transactions.groupBy(\"user_id\").agg(\n",
    "    count(\"transaction_id\").alias(\"transaction_count\"),\n",
    "    sum(\"amount\").alias(\"total_amount\"),\n",
    "    count(when(col(\"payment_method\").isin([\"card\"]), 1)).alias(\"card_payments_count\"),\n",
    "    count(when(col(\"payment_method\").isin([\"paypal\"]), 1)).alias(\"paypal_payments_count\"),\n",
    "    count(when(col(\"currency\").isin([\"usd\"]), 1)).alias(\"usd_payments_count\"),\n",
    "    count(when(col(\"currency\").isin([\"eur\"]), 1)).alias(\"eur_payments_count\")\n",
    ")"
   ]
  },
  {
   "cell_type": "code",
   "execution_count": 9,
   "id": "3d2177e0-dff0-44bb-82ec-a012f115ced1",
   "metadata": {},
   "outputs": [],
   "source": [
    "# Фильтр только пользователей с транзакциями\n",
    "user_metrics = user_metrics.filter(col('transaction_count') > 1)"
   ]
  },
  {
   "cell_type": "code",
   "execution_count": 10,
   "id": "e8630070-d82f-4980-8bf8-7c1e9b9aa54d",
   "metadata": {},
   "outputs": [],
   "source": [
    "# Добавляем дополнительную информацию о пользователях\n",
    "final_df = user_metrics.join(\n",
    "    users_clean,\n",
    "    \"user_id\"\n",
    ").select(\n",
    "    \"user_id\",\n",
    "    \"email\",\n",
    "    \"registration_date\",\n",
    "    \"transaction_count\",\n",
    "    \"total_amount\",\n",
    "    \"card_payments_count\",\n",
    "    \"paypal_payments_count\",\n",
    "    \"usd_payments_count\",\n",
    "    \"eur_payments_count\"\n",
    ")"
   ]
  },
  {
   "cell_type": "code",
   "execution_count": 13,
   "id": "118aa084-3327-45ff-86de-3b37674ae8e6",
   "metadata": {},
   "outputs": [
    {
     "name": "stdout",
     "output_type": "stream",
     "text": [
      "Found 0 duplicate user_ids\n",
      "Found 0 users with null total_amount\n",
      "\n",
      " Общее количество строк в DataFrame: 913\n",
      "\n",
      "user_id              | уник: 913   | nulls: 0    ( 0.0%) | пустых: 0    ( 0.0%) | Примеры: 148, 463, 471, 496, 833\n",
      "email                | уник: 913   | nulls: 0    ( 0.0%) | пустых: 0    ( 0.0%) | Примеры: mitchellpeters@example.com, williamsmatthew@example.org, joshua35@example.org, LONGANDREA@hernandez-ward.biz, stricklandfrank@example.com\n",
      "registration_date    | уник: 913   | nulls: 0    ( 0.0%) | пустых: 0    ( 0.0%) | Примеры: 2024-01-21 12:41:54.468182, 2023-07-14 20:08:01.656777, 2024-10-27 16:54:59.562310, 2024-04-05 15:53:40.828740, 2023-12-13 23:54:24.752388\n",
      "transaction_count    | уник: 11    | nulls: 0    ( 0.0%) | пустых: 0    ( 0.0%) | Примеры: 7, 6, 9, 5, 10\n",
      "total_amount         | уник: 913   | nulls: 0    ( 0.0%) | пустых: 0    ( 0.0%) | Примеры: 531.738579897763, 421.64959818552154, 391.28061268096957, 850.3654022149947, 437.5471795783169\n",
      "card_payments_count  | уник: 7     | nulls: 0    ( 0.0%) | пустых: 0    ( 0.0%) | Примеры: 0, 6, 5, 1, 3\n",
      "paypal_payments_count | уник: 9     | nulls: 0    ( 0.0%) | пустых: 0    ( 0.0%) | Примеры: 0, 7, 6, 5, 1\n",
      "usd_payments_count   | уник: 9     | nulls: 0    ( 0.0%) | пустых: 0    ( 0.0%) | Примеры: 0, 7, 6, 5, 1\n",
      "eur_payments_count   | уник: 7     | nulls: 0    ( 0.0%) | пустых: 0    ( 0.0%) | Примеры: 0, 6, 5, 1, 3\n",
      "\n",
      " Анализ завершён.\n",
      "\n"
     ]
    }
   ],
   "source": [
    "# Проверки качества данных\n",
    "duplicates = final_df.groupBy(\"user_id\").count().filter(col(\"count\") > 1).count()\n",
    "null_amounts = final_df.filter(col(\"total_amount\").isNull()).count()\n",
    "\n",
    "print(f\"Found {duplicates} duplicate user_ids\")\n",
    "print(f\"Found {null_amounts} users with null total_amount\")\n",
    "\n",
    "check(final_df)"
   ]
  },
  {
   "cell_type": "code",
   "execution_count": 14,
   "id": "e2f2ee7e-89c6-40e5-aefb-8904a418a967",
   "metadata": {},
   "outputs": [],
   "source": [
    "spark.stop()"
   ]
  }
 ],
 "metadata": {
  "kernelspec": {
   "display_name": "Python 3 (ipykernel)",
   "language": "python",
   "name": "python3"
  },
  "language_info": {
   "codemirror_mode": {
    "name": "ipython",
    "version": 3
   },
   "file_extension": ".py",
   "mimetype": "text/x-python",
   "name": "python",
   "nbconvert_exporter": "python",
   "pygments_lexer": "ipython3",
   "version": "3.8.10"
  }
 },
 "nbformat": 4,
 "nbformat_minor": 5
}
