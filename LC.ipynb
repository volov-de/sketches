{
  "cells": [
    {
      "cell_type": "markdown",
      "metadata": {
        "colab_type": "text",
        "id": "view-in-github"
      },
      "source": [
        "<a href=\"https://colab.research.google.com/github/volov-de/sketches/blob/main/LC.ipynb\" target=\"_parent\"><img src=\"https://colab.research.google.com/assets/colab-badge.svg\" alt=\"Open In Colab\"/></a>"
      ]
    },
    {
      "cell_type": "markdown",
      "metadata": {
        "id": "z8Go__TSHDnP"
      },
      "source": [
        "Дан массив nums. Мы определяем текущую сумму массива как  runningSum[i] = sum(nums[0]…nums[i]).\n",
        "\n",
        "Верните текущую сумму nums.\n",
        "\n",
        "Пример 1:\n",
        "Ввод: nums = [1,2,3,4]\n",
        " Вывод: [1,3,6,10]\n",
        " Пояснение: Текущая сумма получается следующим образом: [1, 1+2, 1+2+3, 1+2+3+4].\n",
        "Пример 2:\n",
        "Ввод: nums = [1,1,1,1,1]\n",
        " Вывод: [1,2,3,4,5]\n",
        " Пояснение: Текущая сумма получается следующим образом: [1, 1+1, 1+1+1, 1+1+1+1, 1+1+1+1+1].\n",
        "Пример 3:\n",
        "Ввод: числа = [3,1,2,10,1]\n",
        " Вывод: [3,4,6,16,17]\n",
        "\n",
        "Ограничения:\n",
        "1 <= nums.length <= 1000\n",
        "-10^6 <= nums[i] <= 10^6"
      ]
    },
    {
      "cell_type": "code",
      "execution_count": null,
      "metadata": {
        "colab": {
          "base_uri": "https://localhost:8080/"
        },
        "id": "YZObyQ6zHIcf",
        "outputId": "91c7110f-2418-40ff-f5b7-3fd3cfdca2a1"
      },
      "outputs": [
        {
          "data": {
            "text/plain": [
              "[1, 3, 6, 10]"
            ]
          },
          "execution_count": 48,
          "metadata": {},
          "output_type": "execute_result"
        }
      ],
      "source": [
        "nums = [1,2,3,4]\n",
        "\n",
        "class Solution:\n",
        "    def runningSum(self, nums: List[int]) -> List[int]:\n",
        "      for i in range(1, len(nums)):\n",
        "        nums[i] += nums[i-1]\n",
        "      return nums\n",
        "\n",
        "solution.runningSum(nums)"
      ]
    },
    {
      "cell_type": "markdown",
      "metadata": {
        "id": "QBcQ4O2JSXSR"
      },
      "source": [
        "Вам дана m x nтаблица целых чисел accounts, где accounts[i][j]— сумма денег клиента на банковском счёте. Найдите сумму , которой владеет самый богатый клиент.i​​​​​​​​​​​th​​​​j​​​​​​​​​​​th\n",
        "\n",
        "Богатство клиента — это сумма денег на всех его банковских счетах. Самый богатый клиент — это клиент с максимальным состоянием .\n",
        "\n",
        "Пример 1:\n",
        "Ввод: счета = [[1,2,3],[3,2,1]]\n",
        " Вывод: 6\n",
        " Объяснение :\n",
        "1st customer has wealth = 1 + 2 + 3 = 6\n",
        "2nd customer has wealth = 3 + 2 + 1 = 6\n",
        " Оба клиента считаются самыми богатыми с состоянием 6 у каждого, поэтому возвращаем 6.\n",
        "\n",
        "Пример 2:\n",
        "\n",
        "Вход: счета = [[1,5],[7,3],[3,5]]\n",
        " Выход: 10\n",
        " Пояснение :\n",
        "1-й клиент имеет богатство = 6\n",
        "2-й клиент имеет богатство = 10\n",
        "3-й клиент имеет богатство = 8\n",
        "Второй клиент — самый богатый, его состояние составляет 10.\n",
        "Пример 3:\n",
        "\n",
        "Вход: счета = [[2,8,7],[7,1,3],[1,9,5]]\n",
        " Выход: 17\n",
        "\n",
        "Ограничения:\n",
        "\n",
        "m == accounts.length\n",
        "n == accounts[i].length\n",
        "1 <= m, n <= 50\n",
        "1 <= accounts[i][j] <= 100"
      ]
    },
    {
      "cell_type": "code",
      "execution_count": null,
      "metadata": {
        "id": "KTC5q3D2ScYl"
      },
      "outputs": [],
      "source": [
        "accounts = [[1,2,3],[3,2,1]]\n",
        "\n",
        "class Solution:\n",
        "    def maximumWealth(self, accounts: List[List[int]]) -> int:\n",
        "        for i in range(0, len(accounts)):\n",
        "            for j in range(0, len(accounts)):\n",
        "                sum[i] += accounts[j]\n",
        "                return (sum[i])"
      ]
    },
    {
      "cell_type": "markdown",
      "metadata": {
        "id": "4ExmlYPfU2H6"
      },
      "source": [
        "1\n",
        "\n",
        "Дан массив целых чисел nums и целое число target, вернуть индексы двух чисел так, чтобы их сумма давала target.\n",
        "\n",
        "Input: nums = [2,7,11,15], target = 9\n",
        "\n",
        "Output: [0,1]"
      ]
    },
    {
      "cell_type": "code",
      "execution_count": null,
      "metadata": {
        "colab": {
          "base_uri": "https://localhost:8080/"
        },
        "id": "8HJ7j7jIU_sP",
        "outputId": "fdd113f6-8575-4eda-9350-a7d7da78336a"
      },
      "outputs": [
        {
          "name": "stdout",
          "output_type": "stream",
          "text": [
            "[0, 1]\n"
          ]
        }
      ],
      "source": [
        "class Solution:\n",
        "    def twoSum(self, nums: List[int], target: int) -> List[int]:\n",
        "        for i in range(len(nums)):\n",
        "            t1 = target - nums[i]\n",
        "            for j in range(i + 1, len(nums)):\n",
        "                if nums[j] == t1:\n",
        "                    return [i, j]\n",
        "\n",
        "print(solution.twoSum([2,7,11,15],9))"
      ]
    },
    {
      "cell_type": "markdown",
      "metadata": {
        "id": "EKm1kCAvgDLT"
      },
      "source": [
        "2\n",
        "\n",
        "Вам даны два непустых связанных списка, представляющих два неотрицательных целых числа. Цифры хранятся в обратном порядке, и каждый из их узлов содержит одну цифру. Сложите два числа и верните сумму в виде связанного списка.\n",
        "Вы можете предположить, что эти два числа не содержат никакого начального нуля, за исключением самого числа 0.\n",
        "\n",
        "Input: l1 = [2,4,3], l2 = [5,6,4]\n",
        "\n",
        "Output: [7,0,8]\n",
        "\n",
        "Explanation: 342 + 465 = 807."
      ]
    },
    {
      "cell_type": "code",
      "execution_count": null,
      "metadata": {
        "colab": {
          "base_uri": "https://localhost:8080/"
        },
        "id": "meMWUbHLgPz1",
        "outputId": "b2a890f1-3059-4339-a472-5425b3384b43"
      },
      "outputs": [
        {
          "name": "stdout",
          "output_type": "stream",
          "text": [
            "[7, 0, 8]\n"
          ]
        }
      ],
      "source": [
        "l1 = [2, 4, 3]\n",
        "l2 = [5, 6, 4]\n",
        "sum = []\n",
        "\n",
        "for i in range(len(l1)):\n",
        "    sum.append(l1[i] + l2[i])\n",
        "\n",
        "for i in range(len(sum)):\n",
        "  if sum[i] > 9:\n",
        "    sum[i] -= 10\n",
        "    sum[i+1] += 1\n",
        "print(sum)"
      ]
    },
    {
      "cell_type": "markdown",
      "metadata": {
        "id": "ylrP5dYRJP5z"
      },
      "source": [
        "Напишите функцию для поиска самой длинной общей префиксной строки среди массива строк.\n",
        "\n",
        "Если общего префикса нет, вернуть пустую строку \"\".\n",
        "\n",
        "Ввод: strs = [\"flower\",\"flow\",\"flight\"]\n",
        "\n",
        "Вывод: \"fl\""
      ]
    },
    {
      "cell_type": "code",
      "execution_count": 2,
      "metadata": {
        "colab": {
          "base_uri": "https://localhost:8080/"
        },
        "id": "p9bI0QDKJUaM",
        "outputId": "66a4c2f2-ee88-441c-d3ad-86498040c016"
      },
      "outputs": [
        {
          "name": "stdout",
          "output_type": "stream",
          "text": [
            "fl\n"
          ]
        }
      ],
      "source": [
        "class Solution:\n",
        "    def longestCommonPrefix(self, strs: list[str]) -> str:\n",
        "        if not strs:\n",
        "            return \"\"\n",
        "        word = strs[0]\n",
        "        for x in strs[1:]:\n",
        "            while not x.startswith(word):\n",
        "                word = word[:-1]\n",
        "                if word == \"\":\n",
        "                    return \"\"\n",
        "        return word\n",
        "\n",
        "strs = [\"flower\",\"flow\",\"flight\"]\n",
        "solution = Solution()\n",
        "result = solution.longestCommonPrefix(strs)\n",
        "print(result)"
      ]
    },
    {
      "cell_type": "markdown",
      "metadata": {},
      "source": [
        "Example 1:\n",
        "\n",
        "Input: s = \"III\"\n",
        "\n",
        "Output: 3\n",
        "\n",
        "Explanation: III = 3.\n",
        "\n",
        "Example 2:\n",
        "\n",
        "Input: s = \"LVIII\"\n",
        "\n",
        "Output: 58\n",
        "\n",
        "Explanation: L = 50, V= 5, III = 3.\n",
        "\n",
        "Example 3:\n",
        "\n",
        "Input: s = \"MCMXCIV\"\n",
        "\n",
        "Output: 1994\n",
        "\n",
        "Explanation: M = 1000, CM = 900, XC = 90 and IV = 4."
      ]
    },
    {
      "cell_type": "code",
      "execution_count": 6,
      "metadata": {},
      "outputs": [
        {
          "name": "stdout",
          "output_type": "stream",
          "text": [
            "3\n"
          ]
        }
      ],
      "source": [
        "class Solution:\n",
        "    def romanToInt(self, s: str) -> int:\n",
        "        values = {'I': 1, 'V': 5, 'X': 10, 'L': 50, 'C': 100, 'D': 500, 'M': 1000}\n",
        "        total = 0\n",
        "        prev = 0\n",
        "        for ch in reversed(s):\n",
        "            cur = values[ch]\n",
        "            if cur < prev:\n",
        "                total -= cur\n",
        "            else:\n",
        "                total += cur\n",
        "            prev = cur\n",
        "        return total\n",
        "\n",
        "s = \"III\"\n",
        "solution = Solution()\n",
        "result = solution.romanToInt(s)\n",
        "print(result)"
      ]
    },
    {
      "cell_type": "markdown",
      "metadata": {},
      "source": [
        "Дан массив nums, содержащий n различных чисел в диапазоне [0, n]. \n",
        "Необходимо вернуть единственное число из диапазона, которого не хватает в массиве.\n",
        "\n",
        "Пример 1:\n",
        "Ввод: nums = [3,0,1]\n",
        "Вывод: 2\n",
        "Объяснение: n = 3, так как в массиве 3 числа, следовательно, все числа находятся в диапазоне [0,3]. \n",
        "Число 2 отсутствует в этом диапазоне, так как оно не встречается в nums."
      ]
    },
    {
      "cell_type": "code",
      "execution_count": null,
      "metadata": {},
      "outputs": [
        {
          "name": "stdout",
          "output_type": "stream",
          "text": [
            "2\n"
          ]
        }
      ],
      "source": [
        "nums = [3,0,1]\n",
        "\n",
        "n = len(nums)\n",
        "for i in range(n + 1):\n",
        "    if i not in nums:\n",
        "        print(i)"
      ]
    },
    {
      "cell_type": "markdown",
      "metadata": {},
      "source": [
        "5. Longest Palindromic Substring\n",
        "Дана строка s, вернуть самую длинную палиндромный подстрокав s.\n",
        "Пример 1:\n",
        "Ввод: s = \"babad\"\n",
        " Вывод: \"bab\"\n",
        " Пояснение: \"aba\" также является допустимым ответом."
      ]
    },
    {
      "cell_type": "code",
      "execution_count": 25,
      "metadata": {},
      "outputs": [
        {
          "name": "stdout",
          "output_type": "stream",
          "text": [
            "bab\n"
          ]
        }
      ],
      "source": [
        "s = \"babad\"\n",
        "n = len(s)\n",
        "res = \"\"\n",
        "for i in range(len(s)):\n",
        "    for j in range(i, n):\n",
        "        substr = s[i:j+1]\n",
        "        if substr == substr[::-1] and len(substr) > len(res):\n",
        "            res = substr\n",
        "print(res)\n",
        "\n",
        "# Output: \"bab\""
      ]
    },
    {
      "cell_type": "markdown",
      "metadata": {},
      "source": [
        "При наличии перестановки, начинающейся с нуля nums ( с индексом 0 ), построить массив ansтой же длины для ans[i] = nums[nums[i]] каждого элемента 0 <= i < nums.lengthи вернуть его.\n",
        "Перестановка с нулевой базой nums — это массив различных целых чисел от 0до nums.length - 1( включительно ).\n",
        "Пример 1:\n",
        "Ввод: nums = [0,2,1,5,3,4]\n",
        " Вывод: [0,1,2,4,5,3] \n",
        "Объяснение: Массив ans строится следующим образом: \n",
        "ans = [nums[nums[0]], nums[nums[1]], nums[nums[2]], nums[nums[3]], nums[nums[4]], nums[nums[5]]] \n",
        "    = [nums[0], nums[2], nums[1], nums[5], nums[3], nums[4]] \n",
        "    = [0,1,2,4,5,3]"
      ]
    },
    {
      "cell_type": "code",
      "execution_count": 26,
      "metadata": {},
      "outputs": [
        {
          "name": "stdout",
          "output_type": "stream",
          "text": [
            "[0, 1, 2, 4, 5, 3]\n"
          ]
        }
      ],
      "source": [
        "nums =[0,2,1,5,3,4]\n",
        "print([nums[nums[i]] for i in range(len(nums))])"
      ]
    },
    {
      "cell_type": "markdown",
      "metadata": {},
      "source": [
        "2894. Разность делимых и неделимых сумм\n",
        "\n",
        "Вам даны положительные целые числа nи m.\n",
        "Определим два целых числа следующим образом:\n",
        "num1: Сумма всех целых чисел в диапазоне [1, n](включая ) , которые не делятся на m.\n",
        "num2: Сумма всех целых чисел в диапазоне [1, n](включая ) , которые делятся на m.\n",
        "Верните целое число num1 - num2 .\n",
        "\n",
        "Пример 1:\n",
        "Ввод: n = 10, m = 3\n",
        " Вывод: 19\n",
        " Объяснение: В данном примере: \n",
        "- Целые числа в диапазоне [1, 10], которые не делятся на 3, это [1, 2, 4, 5, 7, 8, 10], num1 - это сумма этих целых чисел = 37. \n",
        "- Целые числа в диапазоне [1, 10], которые делятся на 3, это [3, 6, 9], num2 - это сумма этих целых чисел = 18. \n",
        "Мы возвращаем 37 - 18 = 19 в качестве ответа."
      ]
    },
    {
      "cell_type": "code",
      "execution_count": 27,
      "metadata": {},
      "outputs": [
        {
          "name": "stdout",
          "output_type": "stream",
          "text": [
            "19\n"
          ]
        }
      ],
      "source": [
        "n = 10\n",
        "m = 3\n",
        "\n",
        "sum1 = 0\n",
        "sum2 = 0\n",
        "for i in range(n+1):\n",
        "    if i % m != 0:\n",
        "        sum1 += i\n",
        "    else:\n",
        "        sum2 += i\n",
        "print (sum1 - sum2)"
      ]
    },
    {
      "cell_type": "markdown",
      "metadata": {},
      "source": [
        "3. Самая длинная подстрока без повторяющихся символов\n",
        "\n",
        "Дана строка s, найдите длину самой длинной из них. подстрокабез повторяющихся символов.\n",
        "\n",
        "Пример 1:\n",
        "Ввод: s = \"abcabcbb\"\n",
        " Вывод: 3\n",
        " Пояснение: Ответ: \"abc\", длина которого равна 3."
      ]
    },
    {
      "cell_type": "code",
      "execution_count": 2,
      "metadata": {},
      "outputs": [
        {
          "name": "stdout",
          "output_type": "stream",
          "text": [
            "3\n"
          ]
        }
      ],
      "source": [
        "s =\"abcabcbb\"\n",
        "\n",
        "sets = set()\n",
        "l = 0\n",
        "max_len = 0\n",
        "\n",
        "for r in range(len(s)):\n",
        "    while s[r] in sets:\n",
        "        sets.remove(s[l])\n",
        "        l += 1\n",
        "    sets.add(s[r])\n",
        "    max_len = max(max_len, r - l + 1)\n",
        "print(max_len)"
      ]
    }
  ],
  "metadata": {
    "colab": {
      "authorship_tag": "ABX9TyMDYphEMOKuTLNQNLUomILI",
      "include_colab_link": true,
      "provenance": []
    },
    "kernelspec": {
      "display_name": ".venv",
      "language": "python",
      "name": "python3"
    },
    "language_info": {
      "codemirror_mode": {
        "name": "ipython",
        "version": 3
      },
      "file_extension": ".py",
      "mimetype": "text/x-python",
      "name": "python",
      "nbconvert_exporter": "python",
      "pygments_lexer": "ipython3",
      "version": "3.12.7"
    }
  },
  "nbformat": 4,
  "nbformat_minor": 0
}
