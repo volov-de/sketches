{
  "nbformat": 4,
  "nbformat_minor": 0,
  "metadata": {
    "colab": {
      "provenance": [],
      "authorship_tag": "ABX9TyNOBExphtlTgslxWVlfelMs",
      "include_colab_link": true
    },
    "kernelspec": {
      "name": "python3",
      "display_name": "Python 3"
    },
    "language_info": {
      "name": "python"
    }
  },
  "cells": [
    {
      "cell_type": "markdown",
      "metadata": {
        "id": "view-in-github",
        "colab_type": "text"
      },
      "source": [
        "<a href=\"https://colab.research.google.com/github/volov-de/sketches/blob/main/LC.ipynb\" target=\"_parent\"><img src=\"https://colab.research.google.com/assets/colab-badge.svg\" alt=\"Open In Colab\"/></a>"
      ]
    },
    {
      "cell_type": "markdown",
      "source": [
        "Дан массив nums. Мы определяем текущую сумму массива как  runningSum[i] = sum(nums[0]…nums[i]).\n",
        "\n",
        "Верните текущую сумму nums.\n",
        "\n",
        "Пример 1:\n",
        "Ввод: nums = [1,2,3,4]\n",
        " Вывод: [1,3,6,10]\n",
        " Пояснение: Текущая сумма получается следующим образом: [1, 1+2, 1+2+3, 1+2+3+4].\n",
        "Пример 2:\n",
        "Ввод: nums = [1,1,1,1,1]\n",
        " Вывод: [1,2,3,4,5]\n",
        " Пояснение: Текущая сумма получается следующим образом: [1, 1+1, 1+1+1, 1+1+1+1, 1+1+1+1+1].\n",
        "Пример 3:\n",
        "Ввод: числа = [3,1,2,10,1]\n",
        " Вывод: [3,4,6,16,17]\n",
        "\n",
        "Ограничения:\n",
        "1 <= nums.length <= 1000\n",
        "-10^6 <= nums[i] <= 10^6"
      ],
      "metadata": {
        "id": "z8Go__TSHDnP"
      }
    },
    {
      "cell_type": "code",
      "source": [
        "nums = [1,2,3,4]\n",
        "\n",
        "class Solution:\n",
        "    def runningSum(self, nums: List[int]) -> List[int]:\n",
        "      for i in range(1, len(nums)):\n",
        "        nums[i] += nums[i-1]\n",
        "      return nums\n",
        "\n",
        "solution.runningSum(nums)"
      ],
      "metadata": {
        "colab": {
          "base_uri": "https://localhost:8080/"
        },
        "id": "YZObyQ6zHIcf",
        "outputId": "91c7110f-2418-40ff-f5b7-3fd3cfdca2a1"
      },
      "execution_count": null,
      "outputs": [
        {
          "output_type": "execute_result",
          "data": {
            "text/plain": [
              "[1, 3, 6, 10]"
            ]
          },
          "metadata": {},
          "execution_count": 48
        }
      ]
    },
    {
      "cell_type": "markdown",
      "source": [
        "Вам дана m x nтаблица целых чисел accounts, где accounts[i][j]— сумма денег клиента на банковском счёте. Найдите сумму , которой владеет самый богатый клиент.i​​​​​​​​​​​th​​​​j​​​​​​​​​​​th\n",
        "\n",
        "Богатство клиента — это сумма денег на всех его банковских счетах. Самый богатый клиент — это клиент с максимальным состоянием .\n",
        "\n",
        "Пример 1:\n",
        "Ввод: счета = [[1,2,3],[3,2,1]]\n",
        " Вывод: 6\n",
        " Объяснение :\n",
        "1st customer has wealth = 1 + 2 + 3 = 6\n",
        "2nd customer has wealth = 3 + 2 + 1 = 6\n",
        " Оба клиента считаются самыми богатыми с состоянием 6 у каждого, поэтому возвращаем 6.\n",
        "\n",
        "Пример 2:\n",
        "\n",
        "Вход: счета = [[1,5],[7,3],[3,5]]\n",
        " Выход: 10\n",
        " Пояснение :\n",
        "1-й клиент имеет богатство = 6\n",
        "2-й клиент имеет богатство = 10\n",
        "3-й клиент имеет богатство = 8\n",
        "Второй клиент — самый богатый, его состояние составляет 10.\n",
        "Пример 3:\n",
        "\n",
        "Вход: счета = [[2,8,7],[7,1,3],[1,9,5]]\n",
        " Выход: 17\n",
        "\n",
        "Ограничения:\n",
        "\n",
        "m == accounts.length\n",
        "n == accounts[i].length\n",
        "1 <= m, n <= 50\n",
        "1 <= accounts[i][j] <= 100"
      ],
      "metadata": {
        "id": "QBcQ4O2JSXSR"
      }
    },
    {
      "cell_type": "code",
      "source": [
        "accounts = [[1,2,3],[3,2,1]]\n",
        "\n",
        "class Solution:\n",
        "    def maximumWealth(self, accounts: List[List[int]]) -> int:\n",
        "        for i in range(0, len(accounts)):\n",
        "            for j in range(0, len(accounts)):\n",
        "                sum[i] += accounts[j]\n",
        "                return (sum[i])"
      ],
      "metadata": {
        "id": "KTC5q3D2ScYl"
      },
      "execution_count": null,
      "outputs": []
    },
    {
      "cell_type": "markdown",
      "source": [
        "1\n",
        "\n",
        "Дан массив целых чисел nums и целое число target, вернуть индексы двух чисел так, чтобы их сумма давала target.\n",
        "\n",
        "Input: nums = [2,7,11,15], target = 9\n",
        "\n",
        "Output: [0,1]"
      ],
      "metadata": {
        "id": "4ExmlYPfU2H6"
      }
    },
    {
      "cell_type": "code",
      "source": [
        "class Solution:\n",
        "    def twoSum(self, nums: List[int], target: int) -> List[int]:\n",
        "        for i in range(len(nums)):\n",
        "            t1 = target - nums[i]\n",
        "            for j in range(i + 1, len(nums)):\n",
        "                if nums[j] == t1:\n",
        "                    return [i, j]\n",
        "\n",
        "print(solution.twoSum([2,7,11,15],9))"
      ],
      "metadata": {
        "colab": {
          "base_uri": "https://localhost:8080/"
        },
        "id": "8HJ7j7jIU_sP",
        "outputId": "fdd113f6-8575-4eda-9350-a7d7da78336a"
      },
      "execution_count": null,
      "outputs": [
        {
          "output_type": "stream",
          "name": "stdout",
          "text": [
            "[0, 1]\n"
          ]
        }
      ]
    },
    {
      "cell_type": "markdown",
      "source": [
        "2\n",
        "\n",
        "Вам даны два непустых связанных списка, представляющих два неотрицательных целых числа. Цифры хранятся в обратном порядке, и каждый из их узлов содержит одну цифру. Сложите два числа и верните сумму в виде связанного списка.\n",
        "Вы можете предположить, что эти два числа не содержат никакого начального нуля, за исключением самого числа 0.\n",
        "\n",
        "Input: l1 = [2,4,3], l2 = [5,6,4]\n",
        "\n",
        "Output: [7,0,8]\n",
        "\n",
        "Explanation: 342 + 465 = 807."
      ],
      "metadata": {
        "id": "EKm1kCAvgDLT"
      }
    },
    {
      "cell_type": "code",
      "source": [
        "l1 = [2, 4, 3]\n",
        "l2 = [5, 6, 4]\n",
        "sum = []\n",
        "\n",
        "for i in range(len(l1)):\n",
        "    sum.append(l1[i] + l2[i])\n",
        "\n",
        "for i in range(len(sum)):\n",
        "  if sum[i] > 9:\n",
        "    sum[i] -= 10\n",
        "    sum[i+1] += 1\n",
        "print(sum)"
      ],
      "metadata": {
        "colab": {
          "base_uri": "https://localhost:8080/"
        },
        "id": "meMWUbHLgPz1",
        "outputId": "b2a890f1-3059-4339-a472-5425b3384b43"
      },
      "execution_count": null,
      "outputs": [
        {
          "output_type": "stream",
          "name": "stdout",
          "text": [
            "[7, 0, 8]\n"
          ]
        }
      ]
    }
  ]
}